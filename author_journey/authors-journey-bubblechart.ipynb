{
 "cells": [
  {
   "cell_type": "markdown",
   "metadata": {
    "papermill": {
     "duration": 0.012623,
     "end_time": "2021-01-28T07:58:13.219323",
     "exception": false,
     "start_time": "2021-01-28T07:58:13.206700",
     "status": "completed"
    },
    "tags": []
   },
   "source": [
    "# Author Journey through his books trends"
   ]
  },
  {
   "cell_type": "code",
   "execution_count": 1,
   "metadata": {
    "_cell_guid": "b1076dfc-b9ad-4769-8c92-a6c4dae69d19",
    "_kg_hide-input": true,
    "_uuid": "8f2839f25d086af736a60e9eeb907d3b93b6e0e5",
    "execution": {
     "iopub.execute_input": "2021-01-28T07:58:13.246440Z",
     "iopub.status.busy": "2021-01-28T07:58:13.245701Z",
     "iopub.status.idle": "2021-01-28T07:58:14.582258Z",
     "shell.execute_reply": "2021-01-28T07:58:14.582843Z"
    },
    "papermill": {
     "duration": 1.35382,
     "end_time": "2021-01-28T07:58:14.583012",
     "exception": false,
     "start_time": "2021-01-28T07:58:13.229192",
     "status": "completed"
    },
    "tags": []
   },
   "outputs": [
    {
     "data": {
      "text/html": [
       "<div>\n",
       "<style scoped>\n",
       "    .dataframe tbody tr th:only-of-type {\n",
       "        vertical-align: middle;\n",
       "    }\n",
       "\n",
       "    .dataframe tbody tr th {\n",
       "        vertical-align: top;\n",
       "    }\n",
       "\n",
       "    .dataframe thead th {\n",
       "        text-align: right;\n",
       "    }\n",
       "</style>\n",
       "<table border=\"1\" class=\"dataframe\">\n",
       "  <thead>\n",
       "    <tr style=\"text-align: right;\">\n",
       "      <th></th>\n",
       "      <th>Name</th>\n",
       "      <th>Author</th>\n",
       "      <th>User Rating</th>\n",
       "      <th>Reviews</th>\n",
       "      <th>Price</th>\n",
       "      <th>Year</th>\n",
       "      <th>Genre</th>\n",
       "    </tr>\n",
       "  </thead>\n",
       "  <tbody>\n",
       "    <tr>\n",
       "      <th>0</th>\n",
       "      <td>10-Day Green Smoothie Cleanse</td>\n",
       "      <td>JJ Smith</td>\n",
       "      <td>4.7</td>\n",
       "      <td>17350</td>\n",
       "      <td>8</td>\n",
       "      <td>2016</td>\n",
       "      <td>Non Fiction</td>\n",
       "    </tr>\n",
       "    <tr>\n",
       "      <th>1</th>\n",
       "      <td>11/22/63: A Novel</td>\n",
       "      <td>Stephen King</td>\n",
       "      <td>4.6</td>\n",
       "      <td>2052</td>\n",
       "      <td>22</td>\n",
       "      <td>2011</td>\n",
       "      <td>Fiction</td>\n",
       "    </tr>\n",
       "    <tr>\n",
       "      <th>2</th>\n",
       "      <td>12 Rules for Life: An Antidote to Chaos</td>\n",
       "      <td>Jordan B. Peterson</td>\n",
       "      <td>4.7</td>\n",
       "      <td>18979</td>\n",
       "      <td>15</td>\n",
       "      <td>2018</td>\n",
       "      <td>Non Fiction</td>\n",
       "    </tr>\n",
       "    <tr>\n",
       "      <th>3</th>\n",
       "      <td>1984 (Signet Classics)</td>\n",
       "      <td>George Orwell</td>\n",
       "      <td>4.7</td>\n",
       "      <td>21424</td>\n",
       "      <td>6</td>\n",
       "      <td>2017</td>\n",
       "      <td>Fiction</td>\n",
       "    </tr>\n",
       "    <tr>\n",
       "      <th>4</th>\n",
       "      <td>5,000 Awesome Facts (About Everything!) (Natio...</td>\n",
       "      <td>National Geographic Kids</td>\n",
       "      <td>4.8</td>\n",
       "      <td>7665</td>\n",
       "      <td>12</td>\n",
       "      <td>2019</td>\n",
       "      <td>Non Fiction</td>\n",
       "    </tr>\n",
       "  </tbody>\n",
       "</table>\n",
       "</div>"
      ],
      "text/plain": [
       "                                                Name  \\\n",
       "0                      10-Day Green Smoothie Cleanse   \n",
       "1                                  11/22/63: A Novel   \n",
       "2            12 Rules for Life: An Antidote to Chaos   \n",
       "3                             1984 (Signet Classics)   \n",
       "4  5,000 Awesome Facts (About Everything!) (Natio...   \n",
       "\n",
       "                     Author  User Rating  Reviews  Price  Year        Genre  \n",
       "0                  JJ Smith          4.7    17350      8  2016  Non Fiction  \n",
       "1              Stephen King          4.6     2052     22  2011      Fiction  \n",
       "2        Jordan B. Peterson          4.7    18979     15  2018  Non Fiction  \n",
       "3             George Orwell          4.7    21424      6  2017      Fiction  \n",
       "4  National Geographic Kids          4.8     7665     12  2019  Non Fiction  "
      ]
     },
     "execution_count": 1,
     "metadata": {},
     "output_type": "execute_result"
    }
   ],
   "source": [
    "import pandas as pd\n",
    "\n",
    "# import matplotlib.pyplot as plt\n",
    "import plotly.graph_objects as go\n",
    "import plotly.express as px\n",
    "import plotly.io as pio\n",
    "pio.templates.default = \"none\"\n",
    "\n",
    "\n",
    "import warnings\n",
    "warnings.filterwarnings(\"ignore\")\n",
    "\n",
    "df=pd.read_csv('/kaggle/input/amazon-top-50-bestselling-books-2009-2019/bestsellers with categories.csv')\n",
    "\n",
    "df.head()"
   ]
  },
  {
   "cell_type": "code",
   "execution_count": 2,
   "metadata": {
    "_kg_hide-input": false,
    "execution": {
     "iopub.execute_input": "2021-01-28T07:58:14.615774Z",
     "iopub.status.busy": "2021-01-28T07:58:14.615042Z",
     "iopub.status.idle": "2021-01-28T07:58:14.618495Z",
     "shell.execute_reply": "2021-01-28T07:58:14.617952Z"
    },
    "papermill": {
     "duration": 0.024398,
     "end_time": "2021-01-28T07:58:14.618670",
     "exception": false,
     "start_time": "2021-01-28T07:58:14.594272",
     "status": "completed"
    },
    "tags": []
   },
   "outputs": [],
   "source": [
    "# Function for bubbleChart\n",
    "def Author_bubbleChart(data,author):\n",
    "    data.sort_values(by=['Year'],ascending=True)\n",
    "    data.Price.replace(0,inplace=True, method='bfill')\n",
    "    data.reset_index(inplace=True)\n",
    "    fig = px.scatter(data, x=\"Year\", y=\"Price\",\n",
    "            size=\"Reviews\", color=\"Name\",hover_name=\"Name\",opacity=1,\n",
    "            title=(\"Journey of {} publish books from {} to {}\".format(author[0],data.Year.iloc[0],data.Year.iloc[-1])),\n",
    "            )\n",
    "    fig.update_layout(legend=dict(\n",
    "    orientation=\"h\",\n",
    "    yanchor=\"top\",\n",
    "    y=-0.3,\n",
    "    xanchor=\"right\",\n",
    "    x=1\n",
    "    ))\n",
    "    return fig"
   ]
  },
  {
   "cell_type": "markdown",
   "metadata": {
    "papermill": {
     "duration": 0.010294,
     "end_time": "2021-01-28T07:58:14.639890",
     "exception": false,
     "start_time": "2021-01-28T07:58:14.629596",
     "status": "completed"
    },
    "tags": []
   },
   "source": [
    "# Jeffrey Patrick Kinney"
   ]
  },
  {
   "cell_type": "markdown",
   "metadata": {
    "papermill": {
     "duration": 0.01021,
     "end_time": "2021-01-28T07:58:14.660710",
     "exception": false,
     "start_time": "2021-01-28T07:58:14.650500",
     "status": "completed"
    },
    "tags": []
   },
   "source": [
    "Jeffrey Patrick Kinney is an American author and cartoonist, best known for the children's book series Diary of a Wimpy Kid."
   ]
  },
  {
   "cell_type": "code",
   "execution_count": 3,
   "metadata": {
    "_kg_hide-input": true,
    "_kg_hide-output": false,
    "execution": {
     "iopub.execute_input": "2021-01-28T07:58:14.693702Z",
     "iopub.status.busy": "2021-01-28T07:58:14.692951Z",
     "iopub.status.idle": "2021-01-28T07:58:15.275671Z",
     "shell.execute_reply": "2021-01-28T07:58:15.275085Z"
    },
    "papermill": {
     "duration": 0.604509,
     "end_time": "2021-01-28T07:58:15.275789",
     "exception": false,
     "start_time": "2021-01-28T07:58:14.671280",
     "status": "completed"
    },
    "tags": []
   },
   "outputs": [
    {
     "data": {
      "text/html": [
       "        <script type=\"text/javascript\">\n",
       "        window.PlotlyConfig = {MathJaxConfig: 'local'};\n",
       "        if (window.MathJax) {MathJax.Hub.Config({SVG: {font: \"STIX-Web\"}});}\n",
       "        if (typeof require !== 'undefined') {\n",
       "        require.undef(\"plotly\");\n",
       "        requirejs.config({\n",
       "            paths: {\n",
       "                'plotly': ['https://cdn.plot.ly/plotly-latest.min']\n",
       "            }\n",
       "        });\n",
       "        require(['plotly'], function(Plotly) {\n",
       "            window._Plotly = Plotly;\n",
       "        });\n",
       "        }\n",
       "        </script>\n",
       "        "
      ]
     },
     "metadata": {},
     "output_type": "display_data"
    },
    {
     "data": {
      "text/html": [
       "<div>                            <div id=\"37d86edb-14c8-44ae-ad5c-bbe1b93afbfd\" class=\"plotly-graph-div\" style=\"height:525px; width:100%;\"></div>            <script type=\"text/javascript\">                require([\"plotly\"], function(Plotly) {                    window.PLOTLYENV=window.PLOTLYENV || {};                                    if (document.getElementById(\"37d86edb-14c8-44ae-ad5c-bbe1b93afbfd\")) {                    Plotly.newPlot(                        \"37d86edb-14c8-44ae-ad5c-bbe1b93afbfd\",                        [{\"hovertemplate\": \"<b>%{hovertext}</b><br><br>Name=Cabin Fever (Diary of a Wimpy Kid, Book 6)<br>Year=%{x}<br>Price=%{y}<br>Reviews=%{marker.size}<extra></extra>\", \"hovertext\": [\"Cabin Fever (Diary of a Wimpy Kid, Book 6)\"], \"legendgroup\": \"Cabin Fever (Diary of a Wimpy Kid, Book 6)\", \"marker\": {\"color\": \"#1F77B4\", \"opacity\": 1, \"size\": [4505], \"sizemode\": \"area\", \"sizeref\": 23.5325, \"symbol\": \"circle\"}, \"mode\": \"markers\", \"name\": \"Cabin Fever (Diary of a Wimpy Kid, Book 6)\", \"orientation\": \"v\", \"showlegend\": true, \"type\": \"scatter\", \"x\": [2011], \"xaxis\": \"x\", \"y\": [15], \"yaxis\": \"y\"}, {\"hovertemplate\": \"<b>%{hovertext}</b><br><br>Name=Diary of a Wimpy Kid: Hard Luck, Book 8<br>Year=%{x}<br>Price=%{y}<br>Reviews=%{marker.size}<extra></extra>\", \"hovertext\": [\"Diary of a Wimpy Kid: Hard Luck, Book 8\"], \"legendgroup\": \"Diary of a Wimpy Kid: Hard Luck, Book 8\", \"marker\": {\"color\": \"#FF7F0E\", \"opacity\": 1, \"size\": [6812], \"sizemode\": \"area\", \"sizeref\": 23.5325, \"symbol\": \"circle\"}, \"mode\": \"markers\", \"name\": \"Diary of a Wimpy Kid: Hard Luck, Book 8\", \"orientation\": \"v\", \"showlegend\": true, \"type\": \"scatter\", \"x\": [2013], \"xaxis\": \"x\", \"y\": [15], \"yaxis\": \"y\"}, {\"hovertemplate\": \"<b>%{hovertext}</b><br><br>Name=Diary of a Wimpy Kid: The Last Straw (Book 3)<br>Year=%{x}<br>Price=%{y}<br>Reviews=%{marker.size}<extra></extra>\", \"hovertext\": [\"Diary of a Wimpy Kid: The Last Straw (Book 3)\"], \"legendgroup\": \"Diary of a Wimpy Kid: The Last Straw (Book 3)\", \"marker\": {\"color\": \"#2CA02C\", \"opacity\": 1, \"size\": [3837], \"sizemode\": \"area\", \"sizeref\": 23.5325, \"symbol\": \"circle\"}, \"mode\": \"markers\", \"name\": \"Diary of a Wimpy Kid: The Last Straw (Book 3)\", \"orientation\": \"v\", \"showlegend\": true, \"type\": \"scatter\", \"x\": [2009], \"xaxis\": \"x\", \"y\": [15], \"yaxis\": \"y\"}, {\"hovertemplate\": \"<b>%{hovertext}</b><br><br>Name=Diary of a Wimpy Kid: The Long Haul<br>Year=%{x}<br>Price=%{y}<br>Reviews=%{marker.size}<extra></extra>\", \"hovertext\": [\"Diary of a Wimpy Kid: The Long Haul\"], \"legendgroup\": \"Diary of a Wimpy Kid: The Long Haul\", \"marker\": {\"color\": \"#D62728\", \"opacity\": 1, \"size\": [6540], \"sizemode\": \"area\", \"sizeref\": 23.5325, \"symbol\": \"circle\"}, \"mode\": \"markers\", \"name\": \"Diary of a Wimpy Kid: The Long Haul\", \"orientation\": \"v\", \"showlegend\": true, \"type\": \"scatter\", \"x\": [2014], \"xaxis\": \"x\", \"y\": [22], \"yaxis\": \"y\"}, {\"hovertemplate\": \"<b>%{hovertext}</b><br><br>Name=Dog Days (Diary of a Wimpy Kid, Book 4) (Volume 4)<br>Year=%{x}<br>Price=%{y}<br>Reviews=%{marker.size}<extra></extra>\", \"hovertext\": [\"Dog Days (Diary of a Wimpy Kid, Book 4) (Volume 4)\"], \"legendgroup\": \"Dog Days (Diary of a Wimpy Kid, Book 4) (Volume 4)\", \"marker\": {\"color\": \"#9467BD\", \"opacity\": 1, \"size\": [3181], \"sizemode\": \"area\", \"sizeref\": 23.5325, \"symbol\": \"circle\"}, \"mode\": \"markers\", \"name\": \"Dog Days (Diary of a Wimpy Kid, Book 4) (Volume 4)\", \"orientation\": \"v\", \"showlegend\": true, \"type\": \"scatter\", \"x\": [2009], \"xaxis\": \"x\", \"y\": [12], \"yaxis\": \"y\"}, {\"hovertemplate\": \"<b>%{hovertext}</b><br><br>Name=Double Down (Diary of a Wimpy Kid #11)<br>Year=%{x}<br>Price=%{y}<br>Reviews=%{marker.size}<extra></extra>\", \"hovertext\": [\"Double Down (Diary of a Wimpy Kid #11)\"], \"legendgroup\": \"Double Down (Diary of a Wimpy Kid #11)\", \"marker\": {\"color\": \"#8C564B\", \"opacity\": 1, \"size\": [5118], \"sizemode\": \"area\", \"sizeref\": 23.5325, \"symbol\": \"circle\"}, \"mode\": \"markers\", \"name\": \"Double Down (Diary of a Wimpy Kid #11)\", \"orientation\": \"v\", \"showlegend\": true, \"type\": \"scatter\", \"x\": [2016], \"xaxis\": \"x\", \"y\": [20], \"yaxis\": \"y\"}, {\"hovertemplate\": \"<b>%{hovertext}</b><br><br>Name=Old School (Diary of a Wimpy Kid #10)<br>Year=%{x}<br>Price=%{y}<br>Reviews=%{marker.size}<extra></extra>\", \"hovertext\": [\"Old School (Diary of a Wimpy Kid #10)\"], \"legendgroup\": \"Old School (Diary of a Wimpy Kid #10)\", \"marker\": {\"color\": \"#E377C2\", \"opacity\": 1, \"size\": [6169], \"sizemode\": \"area\", \"sizeref\": 23.5325, \"symbol\": \"circle\"}, \"mode\": \"markers\", \"name\": \"Old School (Diary of a Wimpy Kid #10)\", \"orientation\": \"v\", \"showlegend\": true, \"type\": \"scatter\", \"x\": [2015], \"xaxis\": \"x\", \"y\": [7], \"yaxis\": \"y\"}, {\"hovertemplate\": \"<b>%{hovertext}</b><br><br>Name=The Getaway<br>Year=%{x}<br>Price=%{y}<br>Reviews=%{marker.size}<extra></extra>\", \"hovertext\": [\"The Getaway\"], \"legendgroup\": \"The Getaway\", \"marker\": {\"color\": \"#7F7F7F\", \"opacity\": 1, \"size\": [5836], \"sizemode\": \"area\", \"sizeref\": 23.5325, \"symbol\": \"circle\"}, \"mode\": \"markers\", \"name\": \"The Getaway\", \"orientation\": \"v\", \"showlegend\": true, \"type\": \"scatter\", \"x\": [2017], \"xaxis\": \"x\", \"y\": [8], \"yaxis\": \"y\"}, {\"hovertemplate\": \"<b>%{hovertext}</b><br><br>Name=The Meltdown (Diary of a Wimpy Kid Book 13)<br>Year=%{x}<br>Price=%{y}<br>Reviews=%{marker.size}<extra></extra>\", \"hovertext\": [\"The Meltdown (Diary of a Wimpy Kid Book 13)\"], \"legendgroup\": \"The Meltdown (Diary of a Wimpy Kid Book 13)\", \"marker\": {\"color\": \"#BCBD22\", \"opacity\": 1, \"size\": [5898], \"sizemode\": \"area\", \"sizeref\": 23.5325, \"symbol\": \"circle\"}, \"mode\": \"markers\", \"name\": \"The Meltdown (Diary of a Wimpy Kid Book 13)\", \"orientation\": \"v\", \"showlegend\": true, \"type\": \"scatter\", \"x\": [2018], \"xaxis\": \"x\", \"y\": [8], \"yaxis\": \"y\"}, {\"hovertemplate\": \"<b>%{hovertext}</b><br><br>Name=The Third Wheel (Diary of a Wimpy Kid, Book 7)<br>Year=%{x}<br>Price=%{y}<br>Reviews=%{marker.size}<extra></extra>\", \"hovertext\": [\"The Third Wheel (Diary of a Wimpy Kid, Book 7)\"], \"legendgroup\": \"The Third Wheel (Diary of a Wimpy Kid, Book 7)\", \"marker\": {\"color\": \"#17BECF\", \"opacity\": 1, \"size\": [6377], \"sizemode\": \"area\", \"sizeref\": 23.5325, \"symbol\": \"circle\"}, \"mode\": \"markers\", \"name\": \"The Third Wheel (Diary of a Wimpy Kid, Book 7)\", \"orientation\": \"v\", \"showlegend\": true, \"type\": \"scatter\", \"x\": [2012], \"xaxis\": \"x\", \"y\": [7], \"yaxis\": \"y\"}, {\"hovertemplate\": \"<b>%{hovertext}</b><br><br>Name=The Ugly Truth (Diary of a Wimpy Kid, Book 5)<br>Year=%{x}<br>Price=%{y}<br>Reviews=%{marker.size}<extra></extra>\", \"hovertext\": [\"The Ugly Truth (Diary of a Wimpy Kid, Book 5)\"], \"legendgroup\": \"The Ugly Truth (Diary of a Wimpy Kid, Book 5)\", \"marker\": {\"color\": \"#1F77B4\", \"opacity\": 1, \"size\": [3796], \"sizemode\": \"area\", \"sizeref\": 23.5325, \"symbol\": \"circle\"}, \"mode\": \"markers\", \"name\": \"The Ugly Truth (Diary of a Wimpy Kid, Book 5)\", \"orientation\": \"v\", \"showlegend\": true, \"type\": \"scatter\", \"x\": [2010], \"xaxis\": \"x\", \"y\": [12], \"yaxis\": \"y\"}, {\"hovertemplate\": \"<b>%{hovertext}</b><br><br>Name=Wrecking Ball (Diary of a Wimpy Kid Book 14)<br>Year=%{x}<br>Price=%{y}<br>Reviews=%{marker.size}<extra></extra>\", \"hovertext\": [\"Wrecking Ball (Diary of a Wimpy Kid Book 14)\"], \"legendgroup\": \"Wrecking Ball (Diary of a Wimpy Kid Book 14)\", \"marker\": {\"color\": \"#FF7F0E\", \"opacity\": 1, \"size\": [9413], \"sizemode\": \"area\", \"sizeref\": 23.5325, \"symbol\": \"circle\"}, \"mode\": \"markers\", \"name\": \"Wrecking Ball (Diary of a Wimpy Kid Book 14)\", \"orientation\": \"v\", \"showlegend\": true, \"type\": \"scatter\", \"x\": [2019], \"xaxis\": \"x\", \"y\": [8], \"yaxis\": \"y\"}],                        {\"legend\": {\"itemsizing\": \"constant\", \"orientation\": \"h\", \"title\": {\"text\": \"Name\"}, \"tracegroupgap\": 0, \"x\": 1, \"xanchor\": \"right\", \"y\": -0.3, \"yanchor\": \"top\"}, \"template\": {\"data\": {\"scatter\": [{\"type\": \"scatter\"}]}}, \"title\": {\"text\": \"Journey of Jeff Kinney publish books from 2011 to 2019\"}, \"xaxis\": {\"anchor\": \"y\", \"domain\": [0.0, 1.0], \"title\": {\"text\": \"Year\"}}, \"yaxis\": {\"anchor\": \"x\", \"domain\": [0.0, 1.0], \"title\": {\"text\": \"Price\"}}},                        {\"responsive\": true}                    ).then(function(){\n",
       "                            \n",
       "var gd = document.getElementById('37d86edb-14c8-44ae-ad5c-bbe1b93afbfd');\n",
       "var x = new MutationObserver(function (mutations, observer) {{\n",
       "        var display = window.getComputedStyle(gd).display;\n",
       "        if (!display || display === 'none') {{\n",
       "            console.log([gd, 'removed!']);\n",
       "            Plotly.purge(gd);\n",
       "            observer.disconnect();\n",
       "        }}\n",
       "}});\n",
       "\n",
       "// Listen for the removal of the full notebook cells\n",
       "var notebookContainer = gd.closest('#notebook-container');\n",
       "if (notebookContainer) {{\n",
       "    x.observe(notebookContainer, {childList: true});\n",
       "}}\n",
       "\n",
       "// Listen for the clearing of the current output cell\n",
       "var outputEl = gd.closest('.output');\n",
       "if (outputEl) {{\n",
       "    x.observe(outputEl, {childList: true});\n",
       "}}\n",
       "\n",
       "                        })                };                });            </script>        </div>"
      ]
     },
     "metadata": {},
     "output_type": "display_data"
    }
   ],
   "source": [
    "jeff=df[df.Author == 'Jeff Kinney']\n",
    "Author_bubbleChart(jeff,jeff.Author.unique())"
   ]
  },
  {
   "cell_type": "markdown",
   "metadata": {
    "papermill": {
     "duration": 0.011538,
     "end_time": "2021-01-28T07:58:15.299263",
     "exception": false,
     "start_time": "2021-01-28T07:58:15.287725",
     "status": "completed"
    },
    "tags": []
   },
   "source": [
    "# Richard Russell Riordan Jr"
   ]
  },
  {
   "cell_type": "markdown",
   "metadata": {
    "papermill": {
     "duration": 0.011403,
     "end_time": "2021-01-28T07:58:15.322423",
     "exception": false,
     "start_time": "2021-01-28T07:58:15.311020",
     "status": "completed"
    },
    "tags": []
   },
   "source": [
    "Richard Russell Riordan Jr.is an American author. He is known for writing the Percy Jackson & the Olympians series, about a teenager named Percy Jackson who discovers he is a son of the Greek god Poseidon. "
   ]
  },
  {
   "cell_type": "code",
   "execution_count": 4,
   "metadata": {
    "_kg_hide-input": true,
    "execution": {
     "iopub.execute_input": "2021-01-28T07:58:15.355704Z",
     "iopub.status.busy": "2021-01-28T07:58:15.355032Z",
     "iopub.status.idle": "2021-01-28T07:58:15.447109Z",
     "shell.execute_reply": "2021-01-28T07:58:15.447676Z"
    },
    "papermill": {
     "duration": 0.113414,
     "end_time": "2021-01-28T07:58:15.447840",
     "exception": false,
     "start_time": "2021-01-28T07:58:15.334426",
     "status": "completed"
    },
    "tags": []
   },
   "outputs": [
    {
     "data": {
      "text/html": [
       "<div>                            <div id=\"2f3dc546-b9a1-40b6-8473-852df1a9f142\" class=\"plotly-graph-div\" style=\"height:525px; width:100%;\"></div>            <script type=\"text/javascript\">                require([\"plotly\"], function(Plotly) {                    window.PLOTLYENV=window.PLOTLYENV || {};                                    if (document.getElementById(\"2f3dc546-b9a1-40b6-8473-852df1a9f142\")) {                    Plotly.newPlot(                        \"2f3dc546-b9a1-40b6-8473-852df1a9f142\",                        [{\"hovertemplate\": \"<b>%{hovertext}</b><br><br>Name=Percy Jackson and the Olympians Paperback Boxed Set (Books 1-3)<br>Year=%{x}<br>Price=%{y}<br>Reviews=%{marker.size}<extra></extra>\", \"hovertext\": [\"Percy Jackson and the Olympians Paperback Boxed Set (Books 1-3)\"], \"legendgroup\": \"Percy Jackson and the Olympians Paperback Boxed Set (Books 1-3)\", \"marker\": {\"color\": \"#1F77B4\", \"opacity\": 1, \"size\": [548], \"sizemode\": \"area\", \"sizeref\": 17.455, \"symbol\": \"circle\"}, \"mode\": \"markers\", \"name\": \"Percy Jackson and the Olympians Paperback Boxed Set (Books 1-3)\", \"orientation\": \"v\", \"showlegend\": true, \"type\": \"scatter\", \"x\": [2010], \"xaxis\": \"x\", \"y\": [2], \"yaxis\": \"y\"}, {\"hovertemplate\": \"<b>%{hovertext}</b><br><br>Name=The Blood of Olympus (The Heroes of Olympus (5))<br>Year=%{x}<br>Price=%{y}<br>Reviews=%{marker.size}<extra></extra>\", \"hovertext\": [\"The Blood of Olympus (The Heroes of Olympus (5))\"], \"legendgroup\": \"The Blood of Olympus (The Heroes of Olympus (5))\", \"marker\": {\"color\": \"#FF7F0E\", \"opacity\": 1, \"size\": [6600], \"sizemode\": \"area\", \"sizeref\": 17.455, \"symbol\": \"circle\"}, \"mode\": \"markers\", \"name\": \"The Blood of Olympus (The Heroes of Olympus (5))\", \"orientation\": \"v\", \"showlegend\": true, \"type\": \"scatter\", \"x\": [2014], \"xaxis\": \"x\", \"y\": [11], \"yaxis\": \"y\"}, {\"hovertemplate\": \"<b>%{hovertext}</b><br><br>Name=The House of Hades (Heroes of Olympus, Book 4)<br>Year=%{x}<br>Price=%{y}<br>Reviews=%{marker.size}<extra></extra>\", \"hovertext\": [\"The House of Hades (Heroes of Olympus, Book 4)\"], \"legendgroup\": \"The House of Hades (Heroes of Olympus, Book 4)\", \"marker\": {\"color\": \"#2CA02C\", \"opacity\": 1, \"size\": [6982], \"sizemode\": \"area\", \"sizeref\": 17.455, \"symbol\": \"circle\"}, \"mode\": \"markers\", \"name\": \"The House of Hades (Heroes of Olympus, Book 4)\", \"orientation\": \"v\", \"showlegend\": true, \"type\": \"scatter\", \"x\": [2013], \"xaxis\": \"x\", \"y\": [14], \"yaxis\": \"y\"}, {\"hovertemplate\": \"<b>%{hovertext}</b><br><br>Name=The Last Olympian (Percy Jackson and the Olympians, Book 5)<br>Year=%{x}<br>Price=%{y}<br>Reviews=%{marker.size}<extra></extra>\", \"hovertext\": [\"The Last Olympian (Percy Jackson and the Olympians, Book 5)\", \"The Last Olympian (Percy Jackson and the Olympians, Book 5)\"], \"legendgroup\": \"The Last Olympian (Percy Jackson and the Olympians, Book 5)\", \"marker\": {\"color\": \"#D62728\", \"opacity\": 1, \"size\": [4628, 4628], \"sizemode\": \"area\", \"sizeref\": 17.455, \"symbol\": \"circle\"}, \"mode\": \"markers\", \"name\": \"The Last Olympian (Percy Jackson and the Olympians, Book 5)\", \"orientation\": \"v\", \"showlegend\": true, \"type\": \"scatter\", \"x\": [2009, 2010], \"xaxis\": \"x\", \"y\": [7, 7], \"yaxis\": \"y\"}, {\"hovertemplate\": \"<b>%{hovertext}</b><br><br>Name=The Lost Hero (Heroes of Olympus, Book 1)<br>Year=%{x}<br>Price=%{y}<br>Reviews=%{marker.size}<extra></extra>\", \"hovertext\": [\"The Lost Hero (Heroes of Olympus, Book 1)\"], \"legendgroup\": \"The Lost Hero (Heroes of Olympus, Book 1)\", \"marker\": {\"color\": \"#9467BD\", \"opacity\": 1, \"size\": [4506], \"sizemode\": \"area\", \"sizeref\": 17.455, \"symbol\": \"circle\"}, \"mode\": \"markers\", \"name\": \"The Lost Hero (Heroes of Olympus, Book 1)\", \"orientation\": \"v\", \"showlegend\": true, \"type\": \"scatter\", \"x\": [2010], \"xaxis\": \"x\", \"y\": [14], \"yaxis\": \"y\"}, {\"hovertemplate\": \"<b>%{hovertext}</b><br><br>Name=The Mark of Athena (Heroes of Olympus, Book 3)<br>Year=%{x}<br>Price=%{y}<br>Reviews=%{marker.size}<extra></extra>\", \"hovertext\": [\"The Mark of Athena (Heroes of Olympus, Book 3)\"], \"legendgroup\": \"The Mark of Athena (Heroes of Olympus, Book 3)\", \"marker\": {\"color\": \"#8C564B\", \"opacity\": 1, \"size\": [6247], \"sizemode\": \"area\", \"sizeref\": 17.455, \"symbol\": \"circle\"}, \"mode\": \"markers\", \"name\": \"The Mark of Athena (Heroes of Olympus, Book 3)\", \"orientation\": \"v\", \"showlegend\": true, \"type\": \"scatter\", \"x\": [2012], \"xaxis\": \"x\", \"y\": [10], \"yaxis\": \"y\"}, {\"hovertemplate\": \"<b>%{hovertext}</b><br><br>Name=The Red Pyramid (The Kane Chronicles, Book 1)<br>Year=%{x}<br>Price=%{y}<br>Reviews=%{marker.size}<extra></extra>\", \"hovertext\": [\"The Red Pyramid (The Kane Chronicles, Book 1)\"], \"legendgroup\": \"The Red Pyramid (The Kane Chronicles, Book 1)\", \"marker\": {\"color\": \"#E377C2\", \"opacity\": 1, \"size\": [2186], \"sizemode\": \"area\", \"sizeref\": 17.455, \"symbol\": \"circle\"}, \"mode\": \"markers\", \"name\": \"The Red Pyramid (The Kane Chronicles, Book 1)\", \"orientation\": \"v\", \"showlegend\": true, \"type\": \"scatter\", \"x\": [2010], \"xaxis\": \"x\", \"y\": [12], \"yaxis\": \"y\"}, {\"hovertemplate\": \"<b>%{hovertext}</b><br><br>Name=The Serpent's Shadow (The Kane Chronicles, Book 3)<br>Year=%{x}<br>Price=%{y}<br>Reviews=%{marker.size}<extra></extra>\", \"hovertext\": [\"The Serpent's Shadow (The Kane Chronicles, Book 3)\"], \"legendgroup\": \"The Serpent's Shadow (The Kane Chronicles, Book 3)\", \"marker\": {\"color\": \"#7F7F7F\", \"opacity\": 1, \"size\": [2091], \"sizemode\": \"area\", \"sizeref\": 17.455, \"symbol\": \"circle\"}, \"mode\": \"markers\", \"name\": \"The Serpent's Shadow (The Kane Chronicles, Book 3)\", \"orientation\": \"v\", \"showlegend\": true, \"type\": \"scatter\", \"x\": [2012], \"xaxis\": \"x\", \"y\": [12], \"yaxis\": \"y\"}, {\"hovertemplate\": \"<b>%{hovertext}</b><br><br>Name=The Son of Neptune (Heroes of Olympus, Book 2)<br>Year=%{x}<br>Price=%{y}<br>Reviews=%{marker.size}<extra></extra>\", \"hovertext\": [\"The Son of Neptune (Heroes of Olympus, Book 2)\"], \"legendgroup\": \"The Son of Neptune (Heroes of Olympus, Book 2)\", \"marker\": {\"color\": \"#BCBD22\", \"opacity\": 1, \"size\": [4290], \"sizemode\": \"area\", \"sizeref\": 17.455, \"symbol\": \"circle\"}, \"mode\": \"markers\", \"name\": \"The Son of Neptune (Heroes of Olympus, Book 2)\", \"orientation\": \"v\", \"showlegend\": true, \"type\": \"scatter\", \"x\": [2011], \"xaxis\": \"x\", \"y\": [10], \"yaxis\": \"y\"}, {\"hovertemplate\": \"<b>%{hovertext}</b><br><br>Name=The Throne of Fire (The Kane Chronicles, Book 2)<br>Year=%{x}<br>Price=%{y}<br>Reviews=%{marker.size}<extra></extra>\", \"hovertext\": [\"The Throne of Fire (The Kane Chronicles, Book 2)\"], \"legendgroup\": \"The Throne of Fire (The Kane Chronicles, Book 2)\", \"marker\": {\"color\": \"#17BECF\", \"opacity\": 1, \"size\": [1463], \"sizemode\": \"area\", \"sizeref\": 17.455, \"symbol\": \"circle\"}, \"mode\": \"markers\", \"name\": \"The Throne of Fire (The Kane Chronicles, Book 2)\", \"orientation\": \"v\", \"showlegend\": true, \"type\": \"scatter\", \"x\": [2011], \"xaxis\": \"x\", \"y\": [10], \"yaxis\": \"y\"}],                        {\"legend\": {\"itemsizing\": \"constant\", \"orientation\": \"h\", \"title\": {\"text\": \"Name\"}, \"tracegroupgap\": 0, \"x\": 1, \"xanchor\": \"right\", \"y\": -0.3, \"yanchor\": \"top\"}, \"template\": {\"data\": {\"scatter\": [{\"type\": \"scatter\"}]}}, \"title\": {\"text\": \"Journey of Rick Riordan publish books from 2010 to 2011\"}, \"xaxis\": {\"anchor\": \"y\", \"domain\": [0.0, 1.0], \"title\": {\"text\": \"Year\"}}, \"yaxis\": {\"anchor\": \"x\", \"domain\": [0.0, 1.0], \"title\": {\"text\": \"Price\"}}},                        {\"responsive\": true}                    ).then(function(){\n",
       "                            \n",
       "var gd = document.getElementById('2f3dc546-b9a1-40b6-8473-852df1a9f142');\n",
       "var x = new MutationObserver(function (mutations, observer) {{\n",
       "        var display = window.getComputedStyle(gd).display;\n",
       "        if (!display || display === 'none') {{\n",
       "            console.log([gd, 'removed!']);\n",
       "            Plotly.purge(gd);\n",
       "            observer.disconnect();\n",
       "        }}\n",
       "}});\n",
       "\n",
       "// Listen for the removal of the full notebook cells\n",
       "var notebookContainer = gd.closest('#notebook-container');\n",
       "if (notebookContainer) {{\n",
       "    x.observe(notebookContainer, {childList: true});\n",
       "}}\n",
       "\n",
       "// Listen for the clearing of the current output cell\n",
       "var outputEl = gd.closest('.output');\n",
       "if (outputEl) {{\n",
       "    x.observe(outputEl, {childList: true});\n",
       "}}\n",
       "\n",
       "                        })                };                });            </script>        </div>"
      ]
     },
     "metadata": {},
     "output_type": "display_data"
    }
   ],
   "source": [
    "RR=df[df.Author == 'Rick Riordan']\n",
    "Author_bubbleChart(RR,RR.Author.unique())"
   ]
  },
  {
   "cell_type": "markdown",
   "metadata": {
    "papermill": {
     "duration": 0.012413,
     "end_time": "2021-01-28T07:58:15.473360",
     "exception": false,
     "start_time": "2021-01-28T07:58:15.460947",
     "status": "completed"
    },
    "tags": []
   },
   "source": [
    "# Bill O'Reilly"
   ]
  },
  {
   "cell_type": "markdown",
   "metadata": {
    "papermill": {
     "duration": 0.01242,
     "end_time": "2021-01-28T07:58:15.498796",
     "exception": false,
     "start_time": "2021-01-28T07:58:15.486376",
     "status": "completed"
    },
    "tags": []
   },
   "source": [
    "William James O'Reilly Jr. is an American journalist, author, and former television host. During the late 1970s and 1980s, he reported for local television stations in the United States and later for CBS News and ABC News. He anchored the tabloid television program Inside Edition from 1989 to 1995."
   ]
  },
  {
   "cell_type": "code",
   "execution_count": 5,
   "metadata": {
    "_kg_hide-input": true,
    "execution": {
     "iopub.execute_input": "2021-01-28T07:58:15.527992Z",
     "iopub.status.busy": "2021-01-28T07:58:15.527325Z",
     "iopub.status.idle": "2021-01-28T07:58:15.602472Z",
     "shell.execute_reply": "2021-01-28T07:58:15.603065Z"
    },
    "papermill": {
     "duration": 0.09159,
     "end_time": "2021-01-28T07:58:15.603249",
     "exception": false,
     "start_time": "2021-01-28T07:58:15.511659",
     "status": "completed"
    },
    "tags": []
   },
   "outputs": [
    {
     "data": {
      "text/html": [
       "<div>                            <div id=\"bf2be6d4-8eee-4ec8-822d-0cebe11ad392\" class=\"plotly-graph-div\" style=\"height:525px; width:100%;\"></div>            <script type=\"text/javascript\">                require([\"plotly\"], function(Plotly) {                    window.PLOTLYENV=window.PLOTLYENV || {};                                    if (document.getElementById(\"bf2be6d4-8eee-4ec8-822d-0cebe11ad392\")) {                    Plotly.newPlot(                        \"bf2be6d4-8eee-4ec8-822d-0cebe11ad392\",                        [{\"hovertemplate\": \"<b>%{hovertext}</b><br><br>Name=Killing Jesus (Bill O'Reilly's Killing Series)<br>Year=%{x}<br>Price=%{y}<br>Reviews=%{marker.size}<extra></extra>\", \"hovertext\": [\"Killing Jesus (Bill O'Reilly's Killing Series)\"], \"legendgroup\": \"Killing Jesus (Bill O'Reilly's Killing Series)\", \"marker\": {\"color\": \"#1F77B4\", \"opacity\": 1, \"size\": [11391], \"sizemode\": \"area\", \"sizeref\": 28.4775, \"symbol\": \"circle\"}, \"mode\": \"markers\", \"name\": \"Killing Jesus (Bill O'Reilly's Killing Series)\", \"orientation\": \"v\", \"showlegend\": true, \"type\": \"scatter\", \"x\": [2013], \"xaxis\": \"x\", \"y\": [12], \"yaxis\": \"y\"}, {\"hovertemplate\": \"<b>%{hovertext}</b><br><br>Name=Killing Kennedy: The End of Camelot<br>Year=%{x}<br>Price=%{y}<br>Reviews=%{marker.size}<extra></extra>\", \"hovertext\": [\"Killing Kennedy: The End of Camelot\"], \"legendgroup\": \"Killing Kennedy: The End of Camelot\", \"marker\": {\"color\": \"#FF7F0E\", \"opacity\": 1, \"size\": [8634], \"sizemode\": \"area\", \"sizeref\": 28.4775, \"symbol\": \"circle\"}, \"mode\": \"markers\", \"name\": \"Killing Kennedy: The End of Camelot\", \"orientation\": \"v\", \"showlegend\": true, \"type\": \"scatter\", \"x\": [2012], \"xaxis\": \"x\", \"y\": [25], \"yaxis\": \"y\"}, {\"hovertemplate\": \"<b>%{hovertext}</b><br><br>Name=Killing Lincoln: The Shocking Assassination that Changed America Forever (Bill O'Reilly's Killing Series)<br>Year=%{x}<br>Price=%{y}<br>Reviews=%{marker.size}<extra></extra>\", \"hovertext\": [\"Killing Lincoln: The Shocking Assassination that Changed America Forever (Bill O'Reilly's Killing Series)\", \"Killing Lincoln: The Shocking Assassination that Changed America Forever (Bill O'Reilly's Killing Series)\"], \"legendgroup\": \"Killing Lincoln: The Shocking Assassination that Changed America Forever (Bill O'Reilly's Killing Series)\", \"marker\": {\"color\": \"#2CA02C\", \"opacity\": 1, \"size\": [9342, 9342], \"sizemode\": \"area\", \"sizeref\": 28.4775, \"symbol\": \"circle\"}, \"mode\": \"markers\", \"name\": \"Killing Lincoln: The Shocking Assassination that Changed America Forever (Bill O'Reilly's Killing Series)\", \"orientation\": \"v\", \"showlegend\": true, \"type\": \"scatter\", \"x\": [2011, 2012], \"xaxis\": \"x\", \"y\": [10, 10], \"yaxis\": \"y\"}, {\"hovertemplate\": \"<b>%{hovertext}</b><br><br>Name=Killing Patton: The Strange Death of World War II's Most Audacious General (Bill O'Reilly's Killing Series)<br>Year=%{x}<br>Price=%{y}<br>Reviews=%{marker.size}<extra></extra>\", \"hovertext\": [\"Killing Patton: The Strange Death of World War II's Most Audacious General (Bill O'Reilly's Killing Series)\"], \"legendgroup\": \"Killing Patton: The Strange Death of World War II's Most Audacious General (Bill O'Reilly's Killing Series)\", \"marker\": {\"color\": \"#D62728\", \"opacity\": 1, \"size\": [10927], \"sizemode\": \"area\", \"sizeref\": 28.4775, \"symbol\": \"circle\"}, \"mode\": \"markers\", \"name\": \"Killing Patton: The Strange Death of World War II's Most Audacious General (Bill O'Reilly's Killing Series)\", \"orientation\": \"v\", \"showlegend\": true, \"type\": \"scatter\", \"x\": [2014], \"xaxis\": \"x\", \"y\": [6], \"yaxis\": \"y\"}, {\"hovertemplate\": \"<b>%{hovertext}</b><br><br>Name=Killing Reagan: The Violent Assault That Changed a Presidency (Bill O'Reilly's Killing Series)<br>Year=%{x}<br>Price=%{y}<br>Reviews=%{marker.size}<extra></extra>\", \"hovertext\": [\"Killing Reagan: The Violent Assault That Changed a Presidency (Bill O'Reilly's Killing Series)\"], \"legendgroup\": \"Killing Reagan: The Violent Assault That Changed a Presidency (Bill O'Reilly's Killing Series)\", \"marker\": {\"color\": \"#9467BD\", \"opacity\": 1, \"size\": [5235], \"sizemode\": \"area\", \"sizeref\": 28.4775, \"symbol\": \"circle\"}, \"mode\": \"markers\", \"name\": \"Killing Reagan: The Violent Assault That Changed a Presidency (Bill O'Reilly's Killing Series)\", \"orientation\": \"v\", \"showlegend\": true, \"type\": \"scatter\", \"x\": [2015], \"xaxis\": \"x\", \"y\": [5], \"yaxis\": \"y\"}, {\"hovertemplate\": \"<b>%{hovertext}</b><br><br>Name=Killing the Rising Sun: How America Vanquished World War II Japan (Bill O'Reilly's Killing Series)<br>Year=%{x}<br>Price=%{y}<br>Reviews=%{marker.size}<extra></extra>\", \"hovertext\": [\"Killing the Rising Sun: How America Vanquished World War II Japan (Bill O'Reilly's Killing Series)\"], \"legendgroup\": \"Killing the Rising Sun: How America Vanquished World War II Japan (Bill O'Reilly's Killing Series)\", \"marker\": {\"color\": \"#8C564B\", \"opacity\": 1, \"size\": [8916], \"sizemode\": \"area\", \"sizeref\": 28.4775, \"symbol\": \"circle\"}, \"mode\": \"markers\", \"name\": \"Killing the Rising Sun: How America Vanquished World War II Japan (Bill O'Reilly's Killing Series)\", \"orientation\": \"v\", \"showlegend\": true, \"type\": \"scatter\", \"x\": [2016], \"xaxis\": \"x\", \"y\": [6], \"yaxis\": \"y\"}],                        {\"legend\": {\"itemsizing\": \"constant\", \"orientation\": \"h\", \"title\": {\"text\": \"Name\"}, \"tracegroupgap\": 0, \"x\": 1, \"xanchor\": \"right\", \"y\": -0.3, \"yanchor\": \"top\"}, \"template\": {\"data\": {\"scatter\": [{\"type\": \"scatter\"}]}}, \"title\": {\"text\": \"Journey of Bill O'Reilly publish books from 2013 to 2016\"}, \"xaxis\": {\"anchor\": \"y\", \"domain\": [0.0, 1.0], \"title\": {\"text\": \"Year\"}}, \"yaxis\": {\"anchor\": \"x\", \"domain\": [0.0, 1.0], \"title\": {\"text\": \"Price\"}}},                        {\"responsive\": true}                    ).then(function(){\n",
       "                            \n",
       "var gd = document.getElementById('bf2be6d4-8eee-4ec8-822d-0cebe11ad392');\n",
       "var x = new MutationObserver(function (mutations, observer) {{\n",
       "        var display = window.getComputedStyle(gd).display;\n",
       "        if (!display || display === 'none') {{\n",
       "            console.log([gd, 'removed!']);\n",
       "            Plotly.purge(gd);\n",
       "            observer.disconnect();\n",
       "        }}\n",
       "}});\n",
       "\n",
       "// Listen for the removal of the full notebook cells\n",
       "var notebookContainer = gd.closest('#notebook-container');\n",
       "if (notebookContainer) {{\n",
       "    x.observe(notebookContainer, {childList: true});\n",
       "}}\n",
       "\n",
       "// Listen for the clearing of the current output cell\n",
       "var outputEl = gd.closest('.output');\n",
       "if (outputEl) {{\n",
       "    x.observe(outputEl, {childList: true});\n",
       "}}\n",
       "\n",
       "                        })                };                });            </script>        </div>"
      ]
     },
     "metadata": {},
     "output_type": "display_data"
    }
   ],
   "source": [
    "BR=df[df.Author == \"Bill O'Reilly\"]\n",
    "Author_bubbleChart(BR,BR.Author.unique())"
   ]
  },
  {
   "cell_type": "markdown",
   "metadata": {
    "papermill": {
     "duration": 0.01321,
     "end_time": "2021-01-28T07:58:15.630197",
     "exception": false,
     "start_time": "2021-01-28T07:58:15.616987",
     "status": "completed"
    },
    "tags": []
   },
   "source": [
    "# Dave Pilkey"
   ]
  },
  {
   "cell_type": "markdown",
   "metadata": {
    "papermill": {
     "duration": 0.013242,
     "end_time": "2021-01-28T07:58:15.656975",
     "exception": false,
     "start_time": "2021-01-28T07:58:15.643733",
     "status": "completed"
    },
    "tags": []
   },
   "source": [
    "David Murray \"Dav\" Pilkey Jr. is an American cartoonist, author and illustrator of children's literature. Pilkey is best known as the author and illustrator of the children's book series Captain Underpants, the children's graphic novel series Dog Man, and the children’s book series “Cat Kid Comic Club.” "
   ]
  },
  {
   "cell_type": "code",
   "execution_count": 6,
   "metadata": {
    "_kg_hide-input": true,
    "execution": {
     "iopub.execute_input": "2021-01-28T07:58:15.687809Z",
     "iopub.status.busy": "2021-01-28T07:58:15.687089Z",
     "iopub.status.idle": "2021-01-28T07:58:15.769278Z",
     "shell.execute_reply": "2021-01-28T07:58:15.768522Z"
    },
    "papermill": {
     "duration": 0.098633,
     "end_time": "2021-01-28T07:58:15.769407",
     "exception": false,
     "start_time": "2021-01-28T07:58:15.670774",
     "status": "completed"
    },
    "tags": []
   },
   "outputs": [
    {
     "data": {
      "text/html": [
       "<div>                            <div id=\"8f992459-ac44-4e8e-8bdf-d27e00c87a80\" class=\"plotly-graph-div\" style=\"height:525px; width:100%;\"></div>            <script type=\"text/javascript\">                require([\"plotly\"], function(Plotly) {                    window.PLOTLYENV=window.PLOTLYENV || {};                                    if (document.getElementById(\"8f992459-ac44-4e8e-8bdf-d27e00c87a80\")) {                    Plotly.newPlot(                        \"8f992459-ac44-4e8e-8bdf-d27e00c87a80\",                        [{\"hovertemplate\": \"<b>%{hovertext}</b><br><br>Name=Dog Man and Cat Kid: From the Creator of Captain Underpants (Dog Man #4)<br>Year=%{x}<br>Price=%{y}<br>Reviews=%{marker.size}<extra></extra>\", \"hovertext\": [\"Dog Man and Cat Kid: From the Creator of Captain Underpants (Dog Man #4)\"], \"legendgroup\": \"Dog Man and Cat Kid: From the Creator of Captain Underpants (Dog Man #4)\", \"marker\": {\"color\": \"#1F77B4\", \"opacity\": 1, \"size\": [5062], \"sizemode\": \"area\", \"sizeref\": 31.5475, \"symbol\": \"circle\"}, \"mode\": \"markers\", \"name\": \"Dog Man and Cat Kid: From the Creator of Captain Underpants (Dog Man #4)\", \"orientation\": \"v\", \"showlegend\": true, \"type\": \"scatter\", \"x\": [2018], \"xaxis\": \"x\", \"y\": [6], \"yaxis\": \"y\"}, {\"hovertemplate\": \"<b>%{hovertext}</b><br><br>Name=Dog Man: A Tale of Two Kitties: From the Creator of Captain Underpants (Dog Man #3)<br>Year=%{x}<br>Price=%{y}<br>Reviews=%{marker.size}<extra></extra>\", \"hovertext\": [\"Dog Man: A Tale of Two Kitties: From the Creator of Captain Underpants (Dog Man #3)\"], \"legendgroup\": \"Dog Man: A Tale of Two Kitties: From the Creator of Captain Underpants (Dog Man #3)\", \"marker\": {\"color\": \"#FF7F0E\", \"opacity\": 1, \"size\": [4786], \"sizemode\": \"area\", \"sizeref\": 31.5475, \"symbol\": \"circle\"}, \"mode\": \"markers\", \"name\": \"Dog Man: A Tale of Two Kitties: From the Creator of Captain Underpants (Dog Man #3)\", \"orientation\": \"v\", \"showlegend\": true, \"type\": \"scatter\", \"x\": [2017], \"xaxis\": \"x\", \"y\": [8], \"yaxis\": \"y\"}, {\"hovertemplate\": \"<b>%{hovertext}</b><br><br>Name=Dog Man: Brawl of the Wild: From the Creator of Captain Underpants (Dog Man #6)<br>Year=%{x}<br>Price=%{y}<br>Reviews=%{marker.size}<extra></extra>\", \"hovertext\": [\"Dog Man: Brawl of the Wild: From the Creator of Captain Underpants (Dog Man #6)\", \"Dog Man: Brawl of the Wild: From the Creator of Captain Underpants (Dog Man #6)\"], \"legendgroup\": \"Dog Man: Brawl of the Wild: From the Creator of Captain Underpants (Dog Man #6)\", \"marker\": {\"color\": \"#2CA02C\", \"opacity\": 1, \"size\": [7235, 7235], \"sizemode\": \"area\", \"sizeref\": 31.5475, \"symbol\": \"circle\"}, \"mode\": \"markers\", \"name\": \"Dog Man: Brawl of the Wild: From the Creator of Captain Underpants (Dog Man #6)\", \"orientation\": \"v\", \"showlegend\": true, \"type\": \"scatter\", \"x\": [2018, 2019], \"xaxis\": \"x\", \"y\": [4, 4], \"yaxis\": \"y\"}, {\"hovertemplate\": \"<b>%{hovertext}</b><br><br>Name=Dog Man: Fetch-22: From the Creator of Captain Underpants (Dog Man #8)<br>Year=%{x}<br>Price=%{y}<br>Reviews=%{marker.size}<extra></extra>\", \"hovertext\": [\"Dog Man: Fetch-22: From the Creator of Captain Underpants (Dog Man #8)\"], \"legendgroup\": \"Dog Man: Fetch-22: From the Creator of Captain Underpants (Dog Man #8)\", \"marker\": {\"color\": \"#D62728\", \"opacity\": 1, \"size\": [12619], \"sizemode\": \"area\", \"sizeref\": 31.5475, \"symbol\": \"circle\"}, \"mode\": \"markers\", \"name\": \"Dog Man: Fetch-22: From the Creator of Captain Underpants (Dog Man #8)\", \"orientation\": \"v\", \"showlegend\": true, \"type\": \"scatter\", \"x\": [2019], \"xaxis\": \"x\", \"y\": [8], \"yaxis\": \"y\"}, {\"hovertemplate\": \"<b>%{hovertext}</b><br><br>Name=Dog Man: For Whom the Ball Rolls: From the Creator of Captain Underpants (Dog Man #7)<br>Year=%{x}<br>Price=%{y}<br>Reviews=%{marker.size}<extra></extra>\", \"hovertext\": [\"Dog Man: For Whom the Ball Rolls: From the Creator of Captain Underpants (Dog Man #7)\"], \"legendgroup\": \"Dog Man: For Whom the Ball Rolls: From the Creator of Captain Underpants (Dog Man #7)\", \"marker\": {\"color\": \"#9467BD\", \"opacity\": 1, \"size\": [9089], \"sizemode\": \"area\", \"sizeref\": 31.5475, \"symbol\": \"circle\"}, \"mode\": \"markers\", \"name\": \"Dog Man: For Whom the Ball Rolls: From the Creator of Captain Underpants (Dog Man #7)\", \"orientation\": \"v\", \"showlegend\": true, \"type\": \"scatter\", \"x\": [2019], \"xaxis\": \"x\", \"y\": [8], \"yaxis\": \"y\"}, {\"hovertemplate\": \"<b>%{hovertext}</b><br><br>Name=Dog Man: Lord of the Fleas: From the Creator of Captain Underpants (Dog Man #5)<br>Year=%{x}<br>Price=%{y}<br>Reviews=%{marker.size}<extra></extra>\", \"hovertext\": [\"Dog Man: Lord of the Fleas: From the Creator of Captain Underpants (Dog Man #5)\"], \"legendgroup\": \"Dog Man: Lord of the Fleas: From the Creator of Captain Underpants (Dog Man #5)\", \"marker\": {\"color\": \"#8C564B\", \"opacity\": 1, \"size\": [5470], \"sizemode\": \"area\", \"sizeref\": 31.5475, \"symbol\": \"circle\"}, \"mode\": \"markers\", \"name\": \"Dog Man: Lord of the Fleas: From the Creator of Captain Underpants (Dog Man #5)\", \"orientation\": \"v\", \"showlegend\": true, \"type\": \"scatter\", \"x\": [2018], \"xaxis\": \"x\", \"y\": [6], \"yaxis\": \"y\"}],                        {\"legend\": {\"itemsizing\": \"constant\", \"orientation\": \"h\", \"title\": {\"text\": \"Name\"}, \"tracegroupgap\": 0, \"x\": 1, \"xanchor\": \"right\", \"y\": -0.3, \"yanchor\": \"top\"}, \"template\": {\"data\": {\"scatter\": [{\"type\": \"scatter\"}]}}, \"title\": {\"text\": \"Journey of Dav Pilkey publish books from 2018 to 2018\"}, \"xaxis\": {\"anchor\": \"y\", \"domain\": [0.0, 1.0], \"title\": {\"text\": \"Year\"}}, \"yaxis\": {\"anchor\": \"x\", \"domain\": [0.0, 1.0], \"title\": {\"text\": \"Price\"}}},                        {\"responsive\": true}                    ).then(function(){\n",
       "                            \n",
       "var gd = document.getElementById('8f992459-ac44-4e8e-8bdf-d27e00c87a80');\n",
       "var x = new MutationObserver(function (mutations, observer) {{\n",
       "        var display = window.getComputedStyle(gd).display;\n",
       "        if (!display || display === 'none') {{\n",
       "            console.log([gd, 'removed!']);\n",
       "            Plotly.purge(gd);\n",
       "            observer.disconnect();\n",
       "        }}\n",
       "}});\n",
       "\n",
       "// Listen for the removal of the full notebook cells\n",
       "var notebookContainer = gd.closest('#notebook-container');\n",
       "if (notebookContainer) {{\n",
       "    x.observe(notebookContainer, {childList: true});\n",
       "}}\n",
       "\n",
       "// Listen for the clearing of the current output cell\n",
       "var outputEl = gd.closest('.output');\n",
       "if (outputEl) {{\n",
       "    x.observe(outputEl, {childList: true});\n",
       "}}\n",
       "\n",
       "                        })                };                });            </script>        </div>"
      ]
     },
     "metadata": {},
     "output_type": "display_data"
    }
   ],
   "source": [
    "DP=df[df.Author == \"Dav Pilkey\"]\n",
    "Author_bubbleChart(DP,DP.Author.unique())"
   ]
  },
  {
   "cell_type": "code",
   "execution_count": null,
   "metadata": {
    "papermill": {
     "duration": 0.014044,
     "end_time": "2021-01-28T07:58:15.798792",
     "exception": false,
     "start_time": "2021-01-28T07:58:15.784748",
     "status": "completed"
    },
    "tags": []
   },
   "outputs": [],
   "source": []
  }
 ],
 "metadata": {
  "kernelspec": {
   "display_name": "Python 3",
   "language": "python",
   "name": "python3"
  },
  "language_info": {
   "codemirror_mode": {
    "name": "ipython",
    "version": 3
   },
   "file_extension": ".py",
   "mimetype": "text/x-python",
   "name": "python",
   "nbconvert_exporter": "python",
   "pygments_lexer": "ipython3",
   "version": "3.7.6"
  },
  "papermill": {
   "duration": 7.884678,
   "end_time": "2021-01-28T07:58:15.922049",
   "environment_variables": {},
   "exception": null,
   "input_path": "__notebook__.ipynb",
   "output_path": "__notebook__.ipynb",
   "parameters": {},
   "start_time": "2021-01-28T07:58:08.037371",
   "version": "2.1.0"
  }
 },
 "nbformat": 4,
 "nbformat_minor": 4
}
